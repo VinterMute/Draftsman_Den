{
 "cells": [
  {
   "cell_type": "markdown",
   "metadata": {},
   "source": [
    "Запомни размеры листа а4 в инскейпе = ширина 210 высота 297"
   ]
  },
  {
   "cell_type": "code",
   "execution_count": 202,
   "metadata": {},
   "outputs": [],
   "source": [
    "#Понимаем сколько строк в файле \n"
   ]
  },
  {
   "cell_type": "code",
   "execution_count": 232,
   "metadata": {},
   "outputs": [],
   "source": []
  },
  {
   "cell_type": "code",
   "execution_count": 1,
   "metadata": {},
   "outputs": [],
   "source": [
    "from numpy import interp\n",
    "file_in = \"gcode (6).gcode\"\n",
    "with open(file_in) as f:\n",
    "   size=sum(1 for _ in f)\n",
    "\n",
    "f = open(file_in ,\"r\")\n",
    "\n",
    "\n",
    "\n",
    "\n",
    "file_out  = open(\"out.gcode\",\"w\")\n",
    "for i in  range(size):# в место 100 size\n",
    "    line_now = f.readline()\n",
    "    \n",
    "    if line_now.find(\"cut\") != -1:\n",
    "        file_out.write(\"M300 S30\\n\")\n",
    "        \n",
    "    if line_now.find(\"Retract\") != -1:\n",
    "        file_out.write(\"M300 S50\\n\")\n",
    "        \n",
    "    if line_now.find(\"G1 X\") != -1:\n",
    "        X = float((line_now.split()[1])[1:])\n",
    "        Y = float((line_now.split()[2])[1:])\n",
    "        x_true = \"{:.2f}\".format(X)#для А4\n",
    "        y_true = \"{:.2f}\".format(Y)\n",
    "        out_line = \"G1 X\" + str(x_true)+\" Y\"+str(y_true)+\" F3500.00\\n\"\n",
    "        file_out.write(out_line)\n",
    "\n",
    "\n",
    "\n",
    "\n",
    "file_out.write(\"G1 X0.00 Y0.00 F3500.00\\n\")\n",
    "file_out.write(\"M18 (drives off)\")\n",
    "file_out.close()\n",
    "        \n",
    "        \n",
    "#         print(X)\n",
    "#         print(Y)\n",
    "    \n",
    "        \n",
    "#         break\n",
    "#     print(line_now.split(\"\\n\")[0])"
   ]
  },
  {
   "cell_type": "code",
   "execution_count": 274,
   "metadata": {},
   "outputs": [
    {
     "data": {
      "text/plain": [
       "'G1 X26.53 Y295.72 F3500.00\\n'"
      ]
     },
     "execution_count": 274,
     "metadata": {},
     "output_type": "execute_result"
    }
   ],
   "source": [
    "out_line"
   ]
  },
  {
   "cell_type": "code",
   "execution_count": 280,
   "metadata": {},
   "outputs": [
    {
     "data": {
      "text/plain": [
       "1.49"
      ]
     },
     "execution_count": 280,
     "metadata": {},
     "output_type": "execute_result"
    }
   ],
   "source": [
    "round(1.49,2)G1 X-69.90 Y30.73 F3500.00\n"
   ]
  },
  {
   "cell_type": "code",
   "execution_count": 281,
   "metadata": {},
   "outputs": [
    {
     "data": {
      "text/plain": [
       "35.1"
      ]
     },
     "execution_count": 281,
     "metadata": {},
     "output_type": "execute_result"
    }
   ],
   "source": [
    "round(interp(-69.90, [-105,105], [0,210]),2)"
   ]
  },
  {
   "cell_type": "code",
   "execution_count": 285,
   "metadata": {},
   "outputs": [
    {
     "data": {
      "text/plain": [
       "'35.10'"
      ]
     },
     "execution_count": 285,
     "metadata": {},
     "output_type": "execute_result"
    }
   ],
   "source": [
    "\"{:.2f}\".format(interp(-69.90, [-105,105], [0,210]))"
   ]
  },
  {
   "cell_type": "code",
   "execution_count": 291,
   "metadata": {},
   "outputs": [
    {
     "name": "stdout",
     "output_type": "stream",
     "text": [
      " ’®¬ ў гбва®©бвўҐ C ­Ґ Ё¬ҐҐв ¬ҐвЄЁ.\n",
      " ‘ҐаЁ©­л© ­®¬Ґа в®¬ : 6893-9F0A\n",
      "\n",
      " ‘®¤Ґа¦Ё¬®Ґ Ї ЇЄЁ C:\\Users\\vinte\\Desktop\\MAIN\\Project\\Draftsman Den\\Python_normalization_g_code\n",
      "\n",
      "08.12.2020  17:13    <DIR>          .\n",
      "08.12.2020  17:13    <DIR>          ..\n",
      "07.12.2020  12:10    <DIR>          .ipynb_checkpoints\n",
      "08.12.2020  17:11           126я249 inkscape_pasted_image_20201208_171119.png\n",
      "08.12.2020  17:13           102я049 jimmy.gcode\n",
      "08.12.2020  14:51            31я235 out.gcode\n",
      "08.12.2020  14:23            30я895 picka.gcode\n",
      "08.12.2020  13:41                13 test.txt\n",
      "08.12.2020  17:13             3я805 Test_normalization_g_code.ipynb\n",
      "               6 д ©«®ў        294я246 Ў ©в\n",
      "               3 Ї Ї®Є  12я833я075я200 Ў ©в бў®Ў®¤­®\n"
     ]
    }
   ],
   "source": [
    "!dir"
   ]
  },
  {
   "cell_type": "code",
   "execution_count": null,
   "metadata": {},
   "outputs": [],
   "source": []
  }
 ],
 "metadata": {
  "kernelspec": {
   "display_name": "Python 3",
   "language": "python",
   "name": "python3"
  },
  "language_info": {
   "codemirror_mode": {
    "name": "ipython",
    "version": 3
   },
   "file_extension": ".py",
   "mimetype": "text/x-python",
   "name": "python",
   "nbconvert_exporter": "python",
   "pygments_lexer": "ipython3",
   "version": "3.8.5"
  }
 },
 "nbformat": 4,
 "nbformat_minor": 2
}
